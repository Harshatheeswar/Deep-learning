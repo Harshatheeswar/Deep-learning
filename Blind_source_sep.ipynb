{
  "nbformat": 4,
  "nbformat_minor": 0,
  "metadata": {
    "colab": {
      "provenance": []
    },
    "kernelspec": {
      "name": "python3",
      "display_name": "Python 3"
    },
    "language_info": {
      "name": "python"
    },
    "accelerator": "TPU",
    "gpuClass": "standard"
  },
  "cells": [
    {
      "cell_type": "markdown",
      "source": [
        "# Blind source separation\n",
        "The purpose of the project is to separate an image obtained as a sum of a two images into its components. \n",
        "\n",
        "The two images img1 and img2 summed together come from different dataset: mnist and fashion_mnist, respectively.\n",
        "\n",
        "No preprocessing is allowed. The network takes in input the sum img1+img2 and returns the predicted components hat_img1 and hat_img2. \n",
        "\n",
        "The metric used to evaluate the project is the mean squared error between predicted and ground truth images."
      ],
      "metadata": {
        "id": "SFpxbvG3P1TV"
      }
    },
    {
      "cell_type": "code",
      "execution_count": null,
      "metadata": {
        "id": "qX5F2WE5RQtu"
      },
      "outputs": [],
      "source": [
        "import tensorflow as tf\n",
        "from tensorflow.keras import layers\n",
        "from tensorflow.keras.datasets import mnist, fashion_mnist\n",
        "\n",
        "import numpy as np\n",
        "from matplotlib import pyplot as plt"
      ]
    },
    {
      "cell_type": "markdown",
      "source": [
        "Here we load the two datasets, mnist and fashion mnist (both in grayscale).\n",
        "\n",
        "For simplicity, the samples are padded to dimension (32,32)."
      ],
      "metadata": {
        "id": "ii2Ls6PQQBS-"
      }
    },
    {
      "cell_type": "code",
      "source": [
        "(mnist_x_train, mnist_y_train), (mnist_x_test, mnist_y_test) = mnist.load_data()\n",
        "print(np.shape(mnist_x_train))\n",
        "(fashion_mnist_x_train, fashion_mnist_y_train), (fashion_mnist_x_test, fashion_mnist_y_test) = fashion_mnist.load_data()\n",
        "#normnalize in and pad\n",
        "mnist_x_train = np.pad(mnist_x_train,((0,0),(2,2),(2,2)))/255.\n",
        "print(np.shape(mnist_x_train))\n",
        "mnist_x_test = np.pad(mnist_x_test,((0,0),(2,2),(2,2)))/255.\n",
        "fashion_mnist_x_train = np.pad(fashion_mnist_x_train,((0,0),(2,2),(2,2)))/255.\n",
        "fashion_mnist_x_test = np.pad(fashion_mnist_x_test,((0,0),(2,2),(2,2)))/255."
      ],
      "metadata": {
        "colab": {
          "base_uri": "https://localhost:8080/"
        },
        "id": "t8Bn7G9eRVJU",
        "outputId": "5d14637a-e966-4397-ef33-9b81638ddbe3"
      },
      "execution_count": null,
      "outputs": [
        {
          "output_type": "stream",
          "name": "stdout",
          "text": [
            "Downloading data from https://storage.googleapis.com/tensorflow/tf-keras-datasets/mnist.npz\n",
            "11493376/11490434 [==============================] - 0s 0us/step\n",
            "11501568/11490434 [==============================] - 0s 0us/step\n",
            "(60000, 28, 28)\n",
            "Downloading data from https://storage.googleapis.com/tensorflow/tf-keras-datasets/train-labels-idx1-ubyte.gz\n",
            "32768/29515 [=================================] - 0s 0us/step\n",
            "40960/29515 [=========================================] - 0s 0us/step\n",
            "Downloading data from https://storage.googleapis.com/tensorflow/tf-keras-datasets/train-images-idx3-ubyte.gz\n",
            "26427392/26421880 [==============================] - 0s 0us/step\n",
            "26435584/26421880 [==============================] - 0s 0us/step\n",
            "Downloading data from https://storage.googleapis.com/tensorflow/tf-keras-datasets/t10k-labels-idx1-ubyte.gz\n",
            "16384/5148 [===============================================================================================] - 0s 0us/step\n",
            "Downloading data from https://storage.googleapis.com/tensorflow/tf-keras-datasets/t10k-images-idx3-ubyte.gz\n",
            "4423680/4422102 [==============================] - 0s 0us/step\n",
            "4431872/4422102 [==============================] - 0s 0us/step\n",
            "(60000, 32, 32)\n"
          ]
        }
      ]
    },
    {
      "cell_type": "code",
      "source": [
        "print(np.shape(mnist_x_train))"
      ],
      "metadata": {
        "colab": {
          "base_uri": "https://localhost:8080/"
        },
        "id": "9HxnctW2RYkr",
        "outputId": "fd9fb818-cb15-4974-dd89-fe0983940b54"
      },
      "execution_count": null,
      "outputs": [
        {
          "output_type": "stream",
          "name": "stdout",
          "text": [
            "(60000, 32, 32)\n"
          ]
        }
      ]
    },
    {
      "cell_type": "code",
      "source": [
        "print(np.shape(mnist_x_test))"
      ],
      "metadata": {
        "colab": {
          "base_uri": "https://localhost:8080/"
        },
        "id": "FQveHZcMRavQ",
        "outputId": "0d86852a-7f60-42da-e095-51702d85127b"
      },
      "execution_count": null,
      "outputs": [
        {
          "output_type": "stream",
          "name": "stdout",
          "text": [
            "(10000, 32, 32)\n"
          ]
        }
      ]
    },
    {
      "cell_type": "markdown",
      "source": [
        "Here is a simple datagenerator."
      ],
      "metadata": {
        "id": "XP-QhKu6QHfS"
      }
    },
    {
      "cell_type": "code",
      "source": [
        "def datagenerator(x1,x2,batchsize):\n",
        "    n1 = x1.shape[0]\n",
        "    n2 = x2.shape[0]\n",
        "    while True:\n",
        "        num1 = np.random.randint(0, n1, batchsize)\n",
        "        num2 = np.random.randint(0, n2, batchsize)\n",
        "\n",
        "        x_data = (x1[num1] + x2[num2]) / 2.0\n",
        "        y_data = np.concatenate((x1[num1], x2[num2]), axis=2)\n",
        "\n",
        "        yield x_data, y_data "
      ],
      "metadata": {
        "id": "Xj-CssIQRdLz"
      },
      "execution_count": null,
      "outputs": []
    },
    {
      "cell_type": "markdown",
      "source": [
        "Here we define two generators, one for training and one for testing. You may possibly add an addition generator for validation, further splitting the dataset."
      ],
      "metadata": {
        "id": "pxI5UTCMQOA8"
      }
    },
    {
      "cell_type": "code",
      "source": [
        "batchsize = 32\n",
        "inputShape = (32,32,1)"
      ],
      "metadata": {
        "id": "jM9mIF0vRheo"
      },
      "execution_count": null,
      "outputs": []
    },
    {
      "cell_type": "markdown",
      "source": [
        "Validation  Set"
      ],
      "metadata": {
        "id": "Pt5s93fB-ali"
      }
    },
    {
      "cell_type": "markdown",
      "source": [
        "here we are deriving a 10000 samples of validation set from the training set"
      ],
      "metadata": {
        "id": "aiIZyOo7RArG"
      }
    },
    {
      "cell_type": "code",
      "source": [
        "mnist_x_train_org = mnist_x_train[:50000]\n",
        "mnist_x_val = mnist_x_train[50000:]"
      ],
      "metadata": {
        "id": "iDD6pefP-Cje"
      },
      "execution_count": null,
      "outputs": []
    },
    {
      "cell_type": "code",
      "source": [
        "fashion_mnist_x_train_org = fashion_mnist_x_train[:50000]\n",
        "fashion_mnist_x_val = fashion_mnist_x_train[50000:]"
      ],
      "metadata": {
        "id": "JHvtVA14-Gc6"
      },
      "execution_count": null,
      "outputs": []
    },
    {
      "cell_type": "code",
      "source": [
        "print(\"Training Mnist Set: \",mnist_x_train_org.shape)\n",
        "print(\"Validation Mnist Set: \",mnist_x_val.shape)\n",
        "print(\"Training Fashion Mnist Set: \",fashion_mnist_x_train_org.shape)\n",
        "print(\"Validation Fashion Mnist Set: \",fashion_mnist_x_val.shape)"
      ],
      "metadata": {
        "colab": {
          "base_uri": "https://localhost:8080/"
        },
        "id": "2jZdiXXw_nap",
        "outputId": "443ae4dd-25ad-40d3-e7a1-b3025b22e14d"
      },
      "execution_count": null,
      "outputs": [
        {
          "output_type": "stream",
          "name": "stdout",
          "text": [
            "Training Mnist Set:  (50000, 32, 32)\n",
            "Validation Mnist Set:  (10000, 32, 32)\n",
            "Training Fashion Mnist Set:  (50000, 32, 32)\n",
            "Validation Fashion Mnist Set:  (10000, 32, 32)\n"
          ]
        }
      ]
    },
    {
      "cell_type": "markdown",
      "source": [
        "# Data Generators (Train, Test, Val):"
      ],
      "metadata": {
        "id": "gQR8v9g2JUWY"
      }
    },
    {
      "cell_type": "markdown",
      "source": [
        "Here we define three generators, one for training, one for testing, one for validation by splitting the dataset."
      ],
      "metadata": {
        "id": "eNe3MlxpZSHn"
      }
    },
    {
      "cell_type": "code",
      "source": [
        "train_generator = datagenerator(mnist_x_train_org,fashion_mnist_x_train_org,batchsize)\n",
        "\n",
        "test_generator = datagenerator(mnist_x_test,fashion_mnist_x_test,batchsize)\n",
        "\n",
        "val_generator = datagenerator(mnist_x_val,fashion_mnist_x_val,batchsize)"
      ],
      "metadata": {
        "id": "03QQAT1JRj18"
      },
      "execution_count": null,
      "outputs": []
    },
    {
      "cell_type": "markdown",
      "source": [
        "Let us look at some input-output pairs"
      ],
      "metadata": {
        "id": "9kQpkI1DQVzS"
      }
    },
    {
      "cell_type": "code",
      "source": [
        "x, y = next(train_generator)\n",
        "plt.imshow(x[0],cmap='gray', interpolation='nearest')\n",
        "plt.show()\n",
        "plt.imshow(y[0], cmap='gray', interpolation='nearest')\n",
        "plt.show()"
      ],
      "metadata": {
        "colab": {
          "base_uri": "https://localhost:8080/",
          "height": 466
        },
        "id": "CTu3qY3bRmLE",
        "outputId": "2233797a-7f1a-471e-ec9d-6230f4b8796f"
      },
      "execution_count": null,
      "outputs": [
        {
          "output_type": "display_data",
          "data": {
            "text/plain": [
              "<Figure size 432x288 with 1 Axes>"
            ],
            "image/png": "[encoded data removed]"
          },
          "metadata": {
            "needs_background": "light"
          }
        },
        {
          "output_type": "display_data",
          "data": {
            "text/plain": [
              "<Figure size 432x288 with 1 Axes>"
            ],
            "image/png": "[encoded data removed]"
          },
          "metadata": {
            "needs_background": "light"
          }
        }
      ]
    },
    {
      "cell_type": "markdown",
      "source": [
        "# Model"
      ],
      "metadata": {
        "id": "_n0Hi8hDJRwm"
      }
    },
    {
      "cell_type": "markdown",
      "source": [
        "here i have modeled an nn with auto encoders.\n",
        "auto encoders are consists of\n",
        "- 1.encoder \n",
        "- 2.bottleneck\n",
        "- 3.decoder\n",
        "\n",
        "Encoder: a module that compresses the train validate test set input data into encoded representationthat iis several order of magnitube smaller than input.\n",
        "\n",
        "Bottleneck: the module that has the compessed knowledge representation.\n",
        "\n",
        "Decoder: finally decoder is a set of unsampling blocks that reconstruct from the bottlenecks output "
      ],
      "metadata": {
        "id": "EJBhQ-YbPRiJ"
      }
    },
    {
      "cell_type": "code",
      "source": [
        "model = tf.keras.models.Sequential([\n",
        "    # Encoding\n",
        "    tf.keras.layers.Flatten(input_shape=inputShape),\n",
        "    tf.keras.layers.Dense(512, activation='relu'),\n",
        "    tf.keras.layers.Dense(254, activation='relu'),\n",
        "    tf.keras.layers.Dense(64, activation='relu'), #bottleneck\n",
        "    # Decoding\n",
        "    tf.keras.layers.Dense(128, activation='relu'),\n",
        "    tf.keras.layers.Dense(512, activation='relu'),\n",
        "    tf.keras.layers.Dense(2048, activation='sigmoid'),\n",
        "    tf.keras.layers.Reshape((32, 64))\n",
        "])"
      ],
      "metadata": {
        "id": "0fbWoQGjRpQJ"
      },
      "execution_count": null,
      "outputs": []
    },
    {
      "cell_type": "code",
      "source": [
        "model.summary()"
      ],
      "metadata": {
        "colab": {
          "base_uri": "https://localhost:8080/"
        },
        "id": "I2Pb_HFeRs6j",
        "outputId": "6fa2b8ff-4a26-486e-b299-7d530d492750"
      },
      "execution_count": null,
      "outputs": [
        {
          "output_type": "stream",
          "name": "stdout",
          "text": [
            "Model: \"sequential\"\n",
            "_________________________________________________________________\n",
            " Layer (type)                Output Shape              Param #   \n",
            "=================================================================\n",
            " flatten (Flatten)           (None, 1024)              0         \n",
            "                                                                 \n",
            " dense (Dense)               (None, 512)               524800    \n",
            "                                                                 \n",
            " dense_1 (Dense)             (None, 254)               130302    \n",
            "                                                                 \n",
            " dense_2 (Dense)             (None, 64)                16320     \n",
            "                                                                 \n",
            " dense_3 (Dense)             (None, 128)               8320      \n",
            "                                                                 \n",
            " dense_4 (Dense)             (None, 512)               66048     \n",
            "                                                                 \n",
            " dense_5 (Dense)             (None, 2048)              1050624   \n",
            "                                                                 \n",
            " reshape (Reshape)           (None, 32, 64)            0         \n",
            "                                                                 \n",
            "=================================================================\n",
            "Total params: 1,796,414\n",
            "Trainable params: 1,796,414\n",
            "Non-trainable params: 0\n",
            "_________________________________________________________________\n"
          ]
        }
      ]
    },
    {
      "cell_type": "markdown",
      "source": [
        "# Optimizer"
      ],
      "metadata": {
        "id": "xiPynRXVJc0z"
      }
    },
    {
      "cell_type": "markdown",
      "source": [
        " it is useful lower the learning rate as the training progresses.so, we used a scheduler. This scheduler applies an exponential decay function to an optimizer step, given a provided initial learning rate."
      ],
      "metadata": {
        "id": "DA1w1nu-eU3C"
      }
    },
    {
      "cell_type": "markdown",
      "source": [
        "Then we need to compile the network.\n",
        "In order to do it, we need to pass two mandatory arguments:\n",
        "\n",
        "\n",
        "*   the **optimizer**, in charge of governing the details of the backpropagation algorithm\n",
        "*   the **loss function*"
      ],
      "metadata": {
        "id": "SbRb5aGla-RH"
      }
    },
    {
      "cell_type": "code",
      "source": [
        "def get_lr_metric(optimizer):\n",
        "    def lr(y_true, y_pred):\n",
        "        return optimizer._decayed_lr(tf.float32)\n",
        "    return lr"
      ],
      "metadata": {
        "id": "LIa4KODpRyg4"
      },
      "execution_count": null,
      "outputs": []
    },
    {
      "cell_type": "code",
      "source": [
        "lr_schedule = tf.keras.optimizers.schedules.ExponentialDecay(\n",
        "    10.0,\n",
        "    10000,\n",
        "    decay_rate=0.99,\n",
        ")\n",
        "optimizer = tf.optimizers.Adamax(learning_rate=lr_schedule)\n",
        "lr_metric = get_lr_metric(optimizer)\n",
        "\n",
        "model.compile(optimizer='adamax',loss=tf.keras.losses.MeanSquaredError(),metrics=['mse'])"
      ],
      "metadata": {
        "id": "L-Mmm0RpR7wl"
      },
      "execution_count": null,
      "outputs": []
    },
    {
      "cell_type": "markdown",
      "source": [
        "# Training the Model"
      ],
      "metadata": {
        "id": "M6x8lcE7JjDi"
      }
    },
    {
      "cell_type": "markdown",
      "source": [
        "we start training our model with train data to learn from"
      ],
      "metadata": {
        "id": "_oroRGpLe18b"
      }
    },
    {
      "cell_type": "code",
      "source": [
        "history = model.fit(x=train_generator,\n",
        "                    epochs=20,\n",
        "                    steps_per_epoch=50000 // batchsize,\n",
        "                    validation_data=val_generator,\n",
        "                    validation_steps=10000 // batchsize)"
      ],
      "metadata": {
        "colab": {
          "base_uri": "https://localhost:8080/"
        },
        "id": "G0nVD2BRR_Hs",
        "outputId": "7786319b-0e6a-4483-878f-be934cfc700a"
      },
      "execution_count": null,
      "outputs": [
        {
          "output_type": "stream",
          "name": "stdout",
          "text": [
            "Epoch 1/20\n",
            "1562/1562 [==============================] - 43s 27ms/step - loss: 0.0363 - mse: 0.0363 - val_loss: 0.0251 - val_mse: 0.0251\n",
            "Epoch 2/20\n",
            "1562/1562 [==============================] - 42s 27ms/step - loss: 0.0223 - mse: 0.0223 - val_loss: 0.0201 - val_mse: 0.0201\n",
            "Epoch 3/20\n",
            "1562/1562 [==============================] - 42s 27ms/step - loss: 0.0184 - mse: 0.0184 - val_loss: 0.0173 - val_mse: 0.0173\n",
            "Epoch 4/20\n",
            "1562/1562 [==============================] - 42s 27ms/step - loss: 0.0165 - mse: 0.0165 - val_loss: 0.0163 - val_mse: 0.0163\n",
            "Epoch 5/20\n",
            "1562/1562 [==============================] - 42s 27ms/step - loss: 0.0151 - mse: 0.0151 - val_loss: 0.0147 - val_mse: 0.0147\n",
            "Epoch 6/20\n",
            "1562/1562 [==============================] - 41s 26ms/step - loss: 0.0143 - mse: 0.0143 - val_loss: 0.0137 - val_mse: 0.0137\n",
            "Epoch 7/20\n",
            "1562/1562 [==============================] - 41s 26ms/step - loss: 0.0135 - mse: 0.0135 - val_loss: 0.0133 - val_mse: 0.0133\n",
            "Epoch 8/20\n",
            "1562/1562 [==============================] - 43s 27ms/step - loss: 0.0129 - mse: 0.0129 - val_loss: 0.0126 - val_mse: 0.0126\n",
            "Epoch 9/20\n",
            "1562/1562 [==============================] - 44s 28ms/step - loss: 0.0125 - mse: 0.0125 - val_loss: 0.0125 - val_mse: 0.0125\n",
            "Epoch 10/20\n",
            "1562/1562 [==============================] - 43s 28ms/step - loss: 0.0121 - mse: 0.0121 - val_loss: 0.0122 - val_mse: 0.0122\n",
            "Epoch 11/20\n",
            "1562/1562 [==============================] - 43s 27ms/step - loss: 0.0117 - mse: 0.0117 - val_loss: 0.0118 - val_mse: 0.0118\n",
            "Epoch 12/20\n",
            "1562/1562 [==============================] - 43s 27ms/step - loss: 0.0115 - mse: 0.0115 - val_loss: 0.0112 - val_mse: 0.0112\n",
            "Epoch 13/20\n",
            "1562/1562 [==============================] - 43s 27ms/step - loss: 0.0113 - mse: 0.0113 - val_loss: 0.0113 - val_mse: 0.0113\n",
            "Epoch 14/20\n",
            "1562/1562 [==============================] - 42s 27ms/step - loss: 0.0110 - mse: 0.0110 - val_loss: 0.0111 - val_mse: 0.0111\n",
            "Epoch 15/20\n",
            "1562/1562 [==============================] - 43s 27ms/step - loss: 0.0109 - mse: 0.0109 - val_loss: 0.0108 - val_mse: 0.0108\n",
            "Epoch 16/20\n",
            "1562/1562 [==============================] - 43s 27ms/step - loss: 0.0107 - mse: 0.0107 - val_loss: 0.0106 - val_mse: 0.0106\n",
            "Epoch 17/20\n",
            "1562/1562 [==============================] - 44s 28ms/step - loss: 0.0105 - mse: 0.0105 - val_loss: 0.0105 - val_mse: 0.0105\n",
            "Epoch 18/20\n",
            "1562/1562 [==============================] - 45s 29ms/step - loss: 0.0104 - mse: 0.0104 - val_loss: 0.0105 - val_mse: 0.0105\n",
            "Epoch 19/20\n",
            "1562/1562 [==============================] - 44s 28ms/step - loss: 0.0103 - mse: 0.0103 - val_loss: 0.0103 - val_mse: 0.0103\n",
            "Epoch 20/20\n",
            "1562/1562 [==============================] - 44s 28ms/step - loss: 0.0101 - mse: 0.0101 - val_loss: 0.0102 - val_mse: 0.0102\n"
          ]
        }
      ]
    },
    {
      "cell_type": "markdown",
      "source": [
        "# Visualization (Training Loss vs Validation Loss)"
      ],
      "metadata": {
        "id": "SgfpiRJWJneG"
      }
    },
    {
      "cell_type": "code",
      "source": [
        "plt.plot(history.history[\"loss\"], label=\"Training Loss\")\n",
        "plt.plot(history.history[\"val_loss\"], label=\"Validation Loss\")\n",
        "plt.legend()"
      ],
      "metadata": {
        "colab": {
          "base_uri": "https://localhost:8080/",
          "height": 282
        },
        "id": "g-MpFqRySVUd",
        "outputId": "7a6e9b15-ba8b-4691-ed6b-b9b65742be27"
      },
      "execution_count": null,
      "outputs": [
        {
          "output_type": "execute_result",
          "data": {
            "text/plain": [
              "<matplotlib.legend.Legend at 0x7fe4a2d3e310>"
            ]
          },
          "metadata": {},
          "execution_count": 19
        },
        {
          "output_type": "display_data",
          "data": {
            "text/plain": [
              "<Figure size 432x288 with 1 Axes>"
            ],
            "image/png": "[encoded data removed]"
          },
          "metadata": {
            "needs_background": "light"
          }
        }
      ]
    },
    {
      "cell_type": "markdown",
      "source": [
        "# Model Evaluate"
      ],
      "metadata": {
        "id": "o4WodKbWJx5b"
      }
    },
    {
      "cell_type": "markdown",
      "source": [
        "the evaluate() Returns the loss value & metrics values for the model in test mode. we use test data to evaluate"
      ],
      "metadata": {
        "id": "rvIkQd8Jg6FJ"
      }
    },
    {
      "cell_type": "code",
      "source": [
        "metrics = model.evaluate(test_generator, steps=10000 // batchsize)"
      ],
      "metadata": {
        "colab": {
          "base_uri": "https://localhost:8080/"
        },
        "id": "HALLfUiySBeR",
        "outputId": "411486b7-903c-46f1-d57d-94327ac12c95"
      },
      "execution_count": null,
      "outputs": [
        {
          "output_type": "stream",
          "name": "stdout",
          "text": [
            "312/312 [==============================] - 2s 7ms/step - loss: 0.0100 - mse: 0.0100\n"
          ]
        }
      ]
    },
    {
      "cell_type": "code",
      "source": [
        "print('Validation Mean Squared Error: {:.4f}'.format(metrics[1]))"
      ],
      "metadata": {
        "colab": {
          "base_uri": "https://localhost:8080/"
        },
        "id": "3wGH4ERKSeJP",
        "outputId": "70f459fc-1f8e-4186-f53d-253aff6e9811"
      },
      "execution_count": null,
      "outputs": [
        {
          "output_type": "stream",
          "name": "stdout",
          "text": [
            "Validation Mean Squared Error: 0.0100\n"
          ]
        }
      ]
    },
    {
      "cell_type": "markdown",
      "source": [
        "# Predictions"
      ],
      "metadata": {
        "id": "fse7qNQQJNnY"
      }
    },
    {
      "cell_type": "markdown",
      "source": [
        "here we can see how our model is predicting result of the test data"
      ],
      "metadata": {
        "id": "runV7ewAhTLz"
      }
    },
    {
      "cell_type": "code",
      "source": [
        "x, y = next(test_generator)\n",
        "plt.imshow(x[0],cmap='gray', interpolation='nearest')\n",
        "plt.show()\n",
        "y_predict = model.predict(x)\n",
        "f, axarr = plt.subplots(2, figsize=(8, 8))\n",
        "axarr[0].imshow(y[0], cmap='gray', interpolation='nearest')\n",
        "axarr[0].set_title('Ground truth')\n",
        "axarr[1].imshow(y_predict[0], cmap='gray', interpolation='nearest')\n",
        "axarr[1].set_title('Prediction')"
      ],
      "metadata": {
        "colab": {
          "base_uri": "https://localhost:8080/",
          "height": 765
        },
        "id": "7ldGSJLFSjFJ",
        "outputId": "67769d84-d8cb-44d0-c812-f98dca6b877f"
      },
      "execution_count": null,
      "outputs": [
        {
          "output_type": "display_data",
          "data": {
            "text/plain": [
              "<Figure size 432x288 with 1 Axes>"
            ],
            "image/png": "[encoded data removed]"
          },
          "metadata": {
            "needs_background": "light"
          }
        },
        {
          "output_type": "execute_result",
          "data": {
            "text/plain": [
              "Text(0.5, 1.0, 'Prediction')"
            ]
          },
          "metadata": {},
          "execution_count": 22
        },
        {
          "output_type": "display_data",
          "data": {
            "text/plain": [
              "<Figure size 576x576 with 2 Axes>"
            ],
            "image/png": "[encoded data removed]"
          },
          "metadata": {
            "needs_background": "light"
          }
        }
      ]
    },
    {
      "cell_type": "markdown",
      "source": [
        "# Standard Deviation "
      ],
      "metadata": {
        "id": "03p24IeLGIS_"
      }
    },
    {
      "cell_type": "markdown",
      "source": [
        "here we took samples from the test dataset and evaluated to find the standard deviation."
      ],
      "metadata": {
        "id": "O1p61VHuj_Fu"
      }
    },
    {
      "cell_type": "code",
      "source": [
        "metrics = []\n",
        "for i in range(0,10):\n",
        "  metric = model.evaluate(test_generator, steps=10000 // batchsize)\n",
        "  #mse\n",
        "  metrics.append(metric[1])"
      ],
      "metadata": {
        "colab": {
          "base_uri": "https://localhost:8080/"
        },
        "id": "oHzvOhHxGl9G",
        "outputId": "cf409fef-1081-47cd-b6f8-5532e7284851"
      },
      "execution_count": null,
      "outputs": [
        {
          "output_type": "stream",
          "name": "stdout",
          "text": [
            "312/312 [==============================] - 2s 8ms/step - loss: 0.0101 - mse: 0.0101\n",
            "312/312 [==============================] - 2s 7ms/step - loss: 0.0101 - mse: 0.0101\n",
            "312/312 [==============================] - 2s 7ms/step - loss: 0.0101 - mse: 0.0101\n",
            "312/312 [==============================] - 2s 8ms/step - loss: 0.0101 - mse: 0.0101\n",
            "312/312 [==============================] - 2s 7ms/step - loss: 0.0101 - mse: 0.0101\n",
            "312/312 [==============================] - 2s 8ms/step - loss: 0.0101 - mse: 0.0101\n",
            "312/312 [==============================] - 2s 7ms/step - loss: 0.0102 - mse: 0.0102\n",
            "312/312 [==============================] - 2s 8ms/step - loss: 0.0101 - mse: 0.0101\n",
            "312/312 [==============================] - 2s 8ms/step - loss: 0.0102 - mse: 0.0102\n",
            "312/312 [==============================] - 2s 8ms/step - loss: 0.0101 - mse: 0.0101\n"
          ]
        }
      ]
    },
    {
      "cell_type": "code",
      "source": [
        "print(\"Standard Deviation :\",np.std(metrics))"
      ],
      "metadata": {
        "colab": {
          "base_uri": "https://localhost:8080/"
        },
        "id": "xlIFbCyDINkk",
        "outputId": "b2dfee6e-83bd-49ae-ac1b-8ea7b7dd31c2"
      },
      "execution_count": null,
      "outputs": [
        {
          "output_type": "stream",
          "name": "stdout",
          "text": [
            "Standard Deviation : 2.8654572418964127e-05\n"
          ]
        }
      ]
    },
    {
      "cell_type": "markdown",
      "source": [
        "see as expected the standard deviation is in the  order of 0.0193 "
      ],
      "metadata": {
        "id": "oKbh5OIZSBKD"
      }
    },
    {
      "cell_type": "code",
      "source": [],
      "metadata": {
        "id": "OLXjhBX7gV_Y"
      },
      "execution_count": null,
      "outputs": []
    }
  ]
}